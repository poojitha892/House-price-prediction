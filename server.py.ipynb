{
 "cells": [
  {
   "cell_type": "code",
   "execution_count": null,
   "metadata": {},
   "outputs": [
    {
     "name": "stdout",
     "output_type": "stream",
     "text": [
      "Starting Python Flask Server For Home Price Prediction...\n",
      "loading saved artifacts...start\n",
      "['1st block jayanagar', '1st phase jp nagar', '2nd phase judicial layout', '2nd stage nagarbhavi', '5th block hbr layout', '5th phase jp nagar', '6th phase jp nagar', '7th phase jp nagar', '8th phase jp nagar', '9th phase jp nagar', 'aecs layout', 'abbigere', 'akshaya nagar', 'ambalipura', 'ambedkar nagar', 'amruthahalli', 'anandapura', 'ananth nagar', 'anekal', 'anjanapura', 'ardendale', 'arekere', 'attibele', 'beml layout', 'btm 2nd stage', 'btm layout', 'babusapalaya', 'badavala nagar', 'balagere', 'banashankari', 'banashankari stage ii', 'banashankari stage iii', 'banashankari stage v', 'banashankari stage vi', 'banaswadi', 'banjara layout', 'bannerghatta', 'bannerghatta road', 'basavangudi', 'basaveshwara nagar', 'battarahalli', 'begur', 'begur road', 'bellandur', 'benson town', 'bharathi nagar', 'bhoganhalli', 'billekahalli', 'binny pete', 'bisuvanahalli', 'bommanahalli', 'bommasandra', 'bommasandra industrial area', 'bommenahalli', 'brookefield', 'budigere', 'cv raman nagar', 'chamrajpet', 'chandapura', 'channasandra', 'chikka tirupathi', 'chikkabanavar', 'chikkalasandra', 'choodasandra', 'cooke town', 'cox town', 'cunningham road', 'dasanapura', 'dasarahalli', 'devanahalli', 'devarachikkanahalli', 'dodda nekkundi', 'doddaballapur', 'doddakallasandra', 'doddathoguru', 'domlur', 'dommasandra', 'epip zone', 'electronic city', 'electronic city phase ii', 'electronics city phase 1', 'frazer town', 'gm palaya', 'garudachar palya', 'giri nagar', 'gollarapalya hosahalli', 'gottigere', 'green glen layout', 'gubbalala', 'gunjur', 'hal 2nd stage', 'hbr layout', 'hrbr layout', 'hsr layout', 'haralur road', 'harlur', 'hebbal', 'hebbal kempapura', 'hegde nagar', 'hennur', 'hennur road', 'hoodi', 'horamavu agara', 'horamavu banaswadi', 'hormavu', 'hosa road', 'hosakerehalli', 'hoskote', 'hosur road', 'hulimavu', 'isro layout', 'itpl', 'iblur village', 'indira nagar', 'jp nagar', 'jakkur', 'jalahalli', 'jalahalli east', 'jigani', 'judicial layout', 'kr puram', 'kadubeesanahalli', 'kadugodi', 'kaggadasapura', 'kaggalipura', 'kaikondrahalli', 'kalena agrahara', 'kalyan nagar', 'kambipura', 'kammanahalli', 'kammasandra', 'kanakapura', 'kanakpura road', 'kannamangala', 'karuna nagar', 'kasavanhalli', 'kasturi nagar', 'kathriguppe', 'kaval byrasandra', 'kenchenahalli', 'kengeri', 'kengeri satellite town', 'kereguddadahalli', 'kodichikkanahalli', 'kodigehaali', 'kodigehalli', 'kodihalli', 'kogilu', 'konanakunte', 'koramangala', 'kothannur', 'kothanur', 'kudlu', 'kudlu gate', 'kumaraswami layout', 'kundalahalli', 'lb shastri nagar', 'laggere', 'lakshminarayana pura', 'lingadheeranahalli', 'magadi road', 'mahadevpura', 'mahalakshmi layout', 'mallasandra', 'malleshpalya', 'malleshwaram', 'marathahalli', 'margondanahalli', 'marsur', 'mico layout', 'munnekollal', 'murugeshpalya', 'mysore road', 'ngr layout', 'nri layout', 'nagarbhavi', 'nagasandra', 'nagavara', 'nagavarapalya', 'narayanapura', 'neeladri nagar', 'nehru nagar', 'ombr layout', 'old airport road', 'old madras road', 'padmanabhanagar', 'pai layout', 'panathur', 'parappana agrahara', 'pattandur agrahara', 'poorna pragna layout', 'prithvi layout', 'r.t. nagar', 'rachenahalli', 'raja rajeshwari nagar', 'rajaji nagar', 'rajiv nagar', 'ramagondanahalli', 'ramamurthy nagar', 'rayasandra', 'sahakara nagar', 'sanjay nagar', 'sarakki nagar', 'sarjapur', 'sarjapur  road', 'sarjapura - attibele road', 'sector 2 hsr layout', 'sector 7 hsr layout', 'seegehalli', 'shampura', 'shivaji nagar', 'singasandra', 'somasundara palya', 'sompura', 'sonnenahalli', 'subramanyapura', 'sultan palaya', 'tc palaya', 'talaghattapura', 'thanisandra', 'thigalarapalya', 'thubarahalli', 'tindlu', 'tumkur road', 'ulsoor', 'uttarahalli', 'varthur', 'varthur road', 'vasanthapura', 'vidyaranyapura', 'vijayanagar', 'vishveshwarya layout', 'vishwapriya layout', 'vittasandra', 'whitefield', 'yelachenahalli', 'yelahanka', 'yelahanka new town', 'yelenahalli', 'yeshwanthpur']\n",
      "loading saved artifacts...done\n",
      " * Serving Flask app \"__main__\" (lazy loading)\n",
      " * Environment: production\n",
      "   WARNING: This is a development server. Do not use it in a production deployment.\n",
      "   Use a production WSGI server instead.\n",
      " * Debug mode: off\n"
     ]
    },
    {
     "name": "stderr",
     "output_type": "stream",
     "text": [
      " * Running on http://127.0.0.1:5000/ (Press CTRL+C to quit)\n",
      "127.0.0.1 - - [11/Nov/2021 16:44:01] \"\u001b[37mGET /get_location_names HTTP/1.1\u001b[0m\" 200 -\n",
      "127.0.0.1 - - [11/Nov/2021 16:53:20] \"\u001b[37mPOST /predict_home_price HTTP/1.1\u001b[0m\" 200 -\n",
      "127.0.0.1 - - [11/Nov/2021 16:53:34] \"\u001b[37mPOST /predict_home_price HTTP/1.1\u001b[0m\" 200 -\n",
      "127.0.0.1 - - [11/Nov/2021 16:53:48] \"\u001b[37mPOST /predict_home_price HTTP/1.1\u001b[0m\" 200 -\n",
      "127.0.0.1 - - [11/Nov/2021 16:53:52] \"\u001b[37mPOST /predict_home_price HTTP/1.1\u001b[0m\" 200 -\n",
      "127.0.0.1 - - [11/Nov/2021 16:53:57] \"\u001b[37mPOST /predict_home_price HTTP/1.1\u001b[0m\" 200 -\n",
      "127.0.0.1 - - [11/Nov/2021 16:54:57] \"\u001b[37mGET /get_location_names HTTP/1.1\u001b[0m\" 200 -\n",
      "127.0.0.1 - - [11/Nov/2021 16:56:14] \"\u001b[37mPOST /predict_home_price HTTP/1.1\u001b[0m\" 200 -\n",
      "127.0.0.1 - - [11/Nov/2021 16:56:39] \"\u001b[37mPOST /predict_home_price HTTP/1.1\u001b[0m\" 200 -\n",
      "127.0.0.1 - - [11/Nov/2021 16:56:51] \"\u001b[37mPOST /predict_home_price HTTP/1.1\u001b[0m\" 200 -\n",
      "127.0.0.1 - - [11/Nov/2021 16:56:57] \"\u001b[37mPOST /predict_home_price HTTP/1.1\u001b[0m\" 200 -\n",
      "127.0.0.1 - - [11/Nov/2021 16:58:44] \"\u001b[37mPOST /predict_home_price HTTP/1.1\u001b[0m\" 200 -\n",
      "127.0.0.1 - - [11/Nov/2021 17:00:23] \"\u001b[37mGET /get_location_names HTTP/1.1\u001b[0m\" 200 -\n",
      "127.0.0.1 - - [11/Nov/2021 17:01:02] \"\u001b[37mPOST /predict_home_price HTTP/1.1\u001b[0m\" 200 -\n",
      "127.0.0.1 - - [11/Nov/2021 17:02:57] \"\u001b[37mPOST /predict_home_price HTTP/1.1\u001b[0m\" 200 -\n",
      "127.0.0.1 - - [11/Nov/2021 17:05:37] \"\u001b[37mPOST /predict_home_price HTTP/1.1\u001b[0m\" 200 -\n",
      "127.0.0.1 - - [11/Nov/2021 17:06:05] \"\u001b[37mGET /get_location_names HTTP/1.1\u001b[0m\" 200 -\n",
      "127.0.0.1 - - [11/Nov/2021 17:06:10] \"\u001b[37mPOST /predict_home_price HTTP/1.1\u001b[0m\" 200 -\n",
      "127.0.0.1 - - [11/Nov/2021 17:06:30] \"\u001b[37mPOST /predict_home_price HTTP/1.1\u001b[0m\" 200 -\n",
      "127.0.0.1 - - [11/Nov/2021 17:06:53] \"\u001b[37mGET /get_location_names HTTP/1.1\u001b[0m\" 200 -\n",
      "127.0.0.1 - - [11/Nov/2021 17:07:53] \"\u001b[37mPOST /predict_home_price HTTP/1.1\u001b[0m\" 200 -\n",
      "127.0.0.1 - - [11/Nov/2021 17:08:14] \"\u001b[37mPOST /predict_home_price HTTP/1.1\u001b[0m\" 200 -\n",
      "127.0.0.1 - - [11/Nov/2021 17:08:48] \"\u001b[37mGET /get_location_names HTTP/1.1\u001b[0m\" 200 -\n",
      "127.0.0.1 - - [11/Nov/2021 17:09:16] \"\u001b[37mPOST /predict_home_price HTTP/1.1\u001b[0m\" 200 -\n",
      "127.0.0.1 - - [11/Nov/2021 17:09:37] \"\u001b[37mPOST /predict_home_price HTTP/1.1\u001b[0m\" 200 -\n",
      "127.0.0.1 - - [11/Nov/2021 17:10:07] \"\u001b[37mGET /get_location_names HTTP/1.1\u001b[0m\" 200 -\n",
      "127.0.0.1 - - [11/Nov/2021 17:10:50] \"\u001b[37mPOST /predict_home_price HTTP/1.1\u001b[0m\" 200 -\n",
      "127.0.0.1 - - [11/Nov/2021 17:11:08] \"\u001b[37mPOST /predict_home_price HTTP/1.1\u001b[0m\" 200 -\n",
      "127.0.0.1 - - [11/Nov/2021 17:11:20] \"\u001b[37mPOST /predict_home_price HTTP/1.1\u001b[0m\" 200 -\n",
      "127.0.0.1 - - [11/Nov/2021 17:11:50] \"\u001b[37mGET /get_location_names HTTP/1.1\u001b[0m\" 200 -\n"
     ]
    }
   ],
   "source": [
    "#from my_module import helpers\n",
    "from flask import Flask, request, jsonify, render_template\n",
    "import util\n",
    "\n",
    "app = Flask(__name__)\n",
    "\n",
    "#@app.route('/')\n",
    "#def hello():\n",
    "#    return render_template('index.html')\n",
    "#\n",
    "#@app.route('/', methods=['POST'])\n",
    "#def get_value():\n",
    "#    location=request.form['location']\n",
    "#    bhk=request.form['bhk']\n",
    "#    return render_template('pass.html', l=location, b=bhk)\n",
    "\n",
    "@app.route('/get_location_names', methods=['GET'])\n",
    "def get_location_names():\n",
    "    response = jsonify({\n",
    "        'locations': util.get_location_names()\n",
    "    })\n",
    "    response.headers.add('Access-Control-Allow-Origin', '*')\n",
    "\n",
    "    return response\n",
    "\n",
    "@app.route('/predict_home_price', methods=['GET', 'POST'])\n",
    "def predict_home_price():\n",
    "    total_sqft = float(request.form['total_sqft'])\n",
    "    location = request.form['location']\n",
    "    bhk = int(request.form['bhk'])\n",
    "    bath = int(request.form['bath'])\n",
    "\n",
    "    response = jsonify({\n",
    "        'estimated_price': util.get_estimated_price(location,total_sqft,bhk,bath)\n",
    "    })\n",
    "    response.headers.add('Access-Control-Allow-Origin', '*')\n",
    "\n",
    "    return response\n",
    "\n",
    "if __name__ == \"__main__\":\n",
    "    print(\"Starting Python Flask Server For Home Price Prediction...\")\n",
    "    util.load_saved_artifacts()\n",
    "    app.run()"
   ]
  }
 ],
 "metadata": {
  "kernelspec": {
   "display_name": "Python 3",
   "language": "python",
   "name": "python3"
  },
  "language_info": {
   "codemirror_mode": {
    "name": "ipython",
    "version": 3
   },
   "file_extension": ".py",
   "mimetype": "text/x-python",
   "name": "python",
   "nbconvert_exporter": "python",
   "pygments_lexer": "ipython3",
   "version": "3.8.3"
  }
 },
 "nbformat": 4,
 "nbformat_minor": 4
}
