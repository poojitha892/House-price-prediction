{
 "cells": [
  {
   "cell_type": "code",
   "execution_count": null,
   "metadata": {},
   "outputs": [],
   "source": [
    "import pickle\n",
    "#import joblib\n",
    "import json\n",
    "import numpy as np\n",
    "\n",
    "__locations = None\n",
    "__data_columns = None\n",
    "__model = None\n",
    "\n",
    "def get_estimated_price(location,sqft,bhk,bath):\n",
    "    try:\n",
    "        loc_index = __data_columns.index(location.lower())\n",
    "    except:\n",
    "        loc_index = -1\n",
    "\n",
    "    x = np.zeros(len(__data_columns))\n",
    "    x[0] = sqft\n",
    "    x[1] = bath\n",
    "    x[2] = bhk\n",
    "    if loc_index>=0:\n",
    "        x[loc_index] = 1\n",
    "\n",
    "    return round(__model.predict([x])[0],2)\n",
    "\n",
    "\n",
    "def load_saved_artifacts():\n",
    "    print(\"loading saved artifacts...start\")\n",
    "    global  __data_columns\n",
    "    global __locations\n",
    "\n",
    "    with open(\"./artifacts/data_columns.json\", \"r\") as f:\n",
    "        __data_columns = json.load(f)['data_columns']\n",
    "        __locations = __data_columns[3:]  # first 3 columns are sqft, bath, bhk\n",
    "    print(__locations)\n",
    "    global __model\n",
    "\n",
    "    if __model is None:\n",
    "        with open('./artifacts/bangalore_home_prices_model.pickle', 'rb') as f:\n",
    "            __model = pickle.load(f)\n",
    "    print(\"loading saved artifacts...done\")\n",
    "\n",
    "def get_location_names():\n",
    "    return __locations\n",
    "\n",
    "def get_data_columns():\n",
    "    return __data_columns\n",
    "\n",
    "if __name__ == '__main__':\n",
    "    load_saved_artifacts()\n",
    "    print(get_location_names())\n",
    "    print(get_estimated_price('1st Phase JP Nagar',1000, 3, 3))\n",
    "    print(get_estimated_price('1st Phase JP Nagar', 1000, 2, 2))\n",
    "    print(get_estimated_price('Kalhalli', 1000, 2, 2)) # other location\n",
    "    print(get_estimated_price('Ejipura', 1000, 2, 2))  # other location"
   ]
  }
 ],
 "metadata": {
  "kernelspec": {
   "display_name": "Python 3",
   "language": "python",
   "name": "python3"
  },
  "language_info": {
   "codemirror_mode": {
    "name": "ipython",
    "version": 3
   },
   "file_extension": ".py",
   "mimetype": "text/x-python",
   "name": "python",
   "nbconvert_exporter": "python",
   "pygments_lexer": "ipython3",
   "version": "3.8.3"
  }
 },
 "nbformat": 4,
 "nbformat_minor": 4
}
